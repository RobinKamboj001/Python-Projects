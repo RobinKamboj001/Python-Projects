{
 "cells": [
  {
   "cell_type": "code",
   "execution_count": 2,
   "id": "8bfc86a0",
   "metadata": {},
   "outputs": [],
   "source": [
    "list = ['Apple', 3, 8, 'Orange']"
   ]
  },
  {
   "cell_type": "code",
   "execution_count": 4,
   "id": "544f4625",
   "metadata": {},
   "outputs": [],
   "source": [
    "list[0] = 'Robin'"
   ]
  },
  {
   "cell_type": "code",
   "execution_count": 7,
   "id": "aea6cf81",
   "metadata": {},
   "outputs": [],
   "source": [
    "list.append('Rahul')"
   ]
  },
  {
   "cell_type": "code",
   "execution_count": 9,
   "id": "f45fa66e",
   "metadata": {},
   "outputs": [],
   "source": [
    "list.insert(1, 6)"
   ]
  },
  {
   "cell_type": "code",
   "execution_count": 11,
   "id": "9703dc4e",
   "metadata": {},
   "outputs": [
    {
     "data": {
      "text/plain": [
       "6"
      ]
     },
     "execution_count": 11,
     "metadata": {},
     "output_type": "execute_result"
    }
   ],
   "source": [
    "list.pop(1)"
   ]
  },
  {
   "cell_type": "code",
   "execution_count": 13,
   "id": "40fb9486",
   "metadata": {},
   "outputs": [],
   "source": [
    "list.remove('Robin')"
   ]
  },
  {
   "cell_type": "code",
   "execution_count": 16,
   "id": "8896d661",
   "metadata": {},
   "outputs": [
    {
     "data": {
      "text/plain": [
       "1"
      ]
     },
     "execution_count": 16,
     "metadata": {},
     "output_type": "execute_result"
    }
   ],
   "source": [
    "list.index(8)"
   ]
  },
  {
   "cell_type": "code",
   "execution_count": 18,
   "id": "dde25e42",
   "metadata": {},
   "outputs": [
    {
     "data": {
      "text/plain": [
       "1"
      ]
     },
     "execution_count": 18,
     "metadata": {},
     "output_type": "execute_result"
    }
   ],
   "source": [
    "list.count(8)"
   ]
  },
  {
   "cell_type": "code",
   "execution_count": 33,
   "id": "6dc9d241",
   "metadata": {},
   "outputs": [],
   "source": [
    "l = [1, 2, 8, 4, 5]"
   ]
  },
  {
   "cell_type": "code",
   "execution_count": 34,
   "id": "95836a3d",
   "metadata": {},
   "outputs": [],
   "source": [
    "l.reverse()"
   ]
  },
  {
   "cell_type": "code",
   "execution_count": 36,
   "id": "23a3ab34",
   "metadata": {},
   "outputs": [
    {
     "data": {
      "text/plain": [
       "[5, 4, 8, 2, 1]"
      ]
     },
     "execution_count": 36,
     "metadata": {},
     "output_type": "execute_result"
    }
   ],
   "source": [
    "l"
   ]
  },
  {
   "cell_type": "code",
   "execution_count": null,
   "id": "92c08972",
   "metadata": {},
   "outputs": [],
   "source": []
  }
 ],
 "metadata": {
  "kernelspec": {
   "display_name": "Python 3",
   "language": "python",
   "name": "python3"
  },
  "language_info": {
   "codemirror_mode": {
    "name": "ipython",
    "version": 3
   },
   "file_extension": ".py",
   "mimetype": "text/x-python",
   "name": "python",
   "nbconvert_exporter": "python",
   "pygments_lexer": "ipython3",
   "version": "3.11.9"
  }
 },
 "nbformat": 4,
 "nbformat_minor": 5
}
